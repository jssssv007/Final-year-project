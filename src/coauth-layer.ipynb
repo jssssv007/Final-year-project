{
 "cells": [
  {
   "cell_type": "code",
   "execution_count": 1,
   "id": "9b6467f8",
   "metadata": {},
   "outputs": [],
   "source": [
    "import networkx as nx\n",
    "from sage.all import *\n",
    "from math import ceil\n",
    "from tqdm import *"
   ]
  },
  {
   "cell_type": "code",
   "execution_count": 2,
   "id": "5034e7eb",
   "metadata": {},
   "outputs": [],
   "source": [
    "def blocks(array):\n",
    "    return [array[i : i + 3] for i in range(0, len(array), 3)]"
   ]
  },
  {
   "cell_type": "code",
   "execution_count": 18,
   "id": "d74483fd",
   "metadata": {},
   "outputs": [],
   "source": [
    "f=open('output2.txt').read()\n",
    "f = \"\".join(f)\n",
    "f = f.split()\n",
    "lp = blocks(f)\n",
    "d={}\n",
    "for i in lp:\n",
    "    if i[0] not in d:\n",
    "        d[i[0]]={i[1]:i[2]}\n",
    "    else:\n",
    "        d[i[0]][i[1]]=i[2]"
   ]
  },
  {
   "cell_type": "code",
   "execution_count": 19,
   "id": "a15fa6f5",
   "metadata": {},
   "outputs": [
    {
     "data": {
      "text/plain": [
       "{'1034146': '1', '535819': '1'}"
      ]
     },
     "execution_count": 19,
     "metadata": {},
     "output_type": "execute_result"
    }
   ],
   "source": [
    "d['#522324']"
   ]
  },
  {
   "cell_type": "code",
   "execution_count": 20,
   "id": "d15b0910",
   "metadata": {},
   "outputs": [],
   "source": [
    "import itertools\n",
    "sliced_network=dict(itertools.islice(d.items(),2))"
   ]
  },
  {
   "cell_type": "code",
   "execution_count": 21,
   "id": "8ea017b9",
   "metadata": {},
   "outputs": [
    {
     "data": {
      "text/plain": [
       "2"
      ]
     },
     "execution_count": 21,
     "metadata": {},
     "output_type": "execute_result"
    }
   ],
   "source": [
    "len(sliced_network)"
   ]
  },
  {
   "cell_type": "code",
   "execution_count": 22,
   "id": "31d2408a",
   "metadata": {},
   "outputs": [
    {
     "data": {
      "text/plain": [
       "542766"
      ]
     },
     "execution_count": 22,
     "metadata": {},
     "output_type": "execute_result"
    }
   ],
   "source": [
    "len(d)"
   ]
  },
  {
   "cell_type": "code",
   "execution_count": 23,
   "id": "d36b788d",
   "metadata": {},
   "outputs": [],
   "source": [
    "G = nx.Graph()"
   ]
  },
  {
   "cell_type": "code",
   "execution_count": 41,
   "id": "90234bfc",
   "metadata": {},
   "outputs": [],
   "source": [
    "G.add_nodes_from(sliced_network)"
   ]
  },
  {
   "cell_type": "code",
   "execution_count": 42,
   "id": "200cbc45",
   "metadata": {},
   "outputs": [
    {
     "data": {
      "text/plain": [
       "NodeView(('#522324', '#688814', '1034146', '947067', '1614522', '1610407', '767134', '960831', '838659', '509352', '1581184', '1581334', '1587123', '499274', '970663', '1088830', '1088453', '972879', '1418604', '1182580', '1596664', '808298', '567819', '812897', '134504', '13266', '672288', '263510', '726657', '1489313', '98680', '1364884', '909602', '79912', '1525085', '558070', '1213284', '1205616', '448902', '1633706', '449806', '238386', '1386838', '535819', '56226', '782876'))"
      ]
     },
     "execution_count": 42,
     "metadata": {},
     "output_type": "execute_result"
    }
   ],
   "source": [
    "#nx.set_node_attributes(G, sliced_network)\n",
    "G.nodes()"
   ]
  },
  {
   "cell_type": "code",
   "execution_count": 34,
   "id": "f52d4b5e",
   "metadata": {},
   "outputs": [
    {
     "data": {
      "text/plain": [
       "{'#522324': {'1034146': '1', '535819': '1'},\n",
       " '#688814': {'947067': '2',\n",
       "  '1614522': '1',\n",
       "  '1610407': '1',\n",
       "  '767134': '1',\n",
       "  '960831': '1',\n",
       "  '838659': '5',\n",
       "  '509352': '1',\n",
       "  '1581184': '1',\n",
       "  '1581334': '1',\n",
       "  '1587123': '1',\n",
       "  '499274': '1',\n",
       "  '970663': '3',\n",
       "  '1088830': '1',\n",
       "  '1088453': '1',\n",
       "  '972879': '1',\n",
       "  '1418604': '1',\n",
       "  '1182580': '1',\n",
       "  '1596664': '1',\n",
       "  '808298': '3',\n",
       "  '567819': '1',\n",
       "  '812897': '2',\n",
       "  '134504': '2',\n",
       "  '13266': '1',\n",
       "  '672288': '4',\n",
       "  '263510': '1',\n",
       "  '726657': '1',\n",
       "  '1489313': '2',\n",
       "  '98680': '1',\n",
       "  '1364884': '2',\n",
       "  '909602': '1',\n",
       "  '79912': '2',\n",
       "  '1525085': '3',\n",
       "  '558070': '5',\n",
       "  '1213284': '2',\n",
       "  '1205616': '14',\n",
       "  '448902': '1',\n",
       "  '1633706': '3',\n",
       "  '449806': '18',\n",
       "  '238386': '1',\n",
       "  '1386838': '2',\n",
       "  '56226': '3',\n",
       "  '782876': '1'}}"
      ]
     },
     "execution_count": 34,
     "metadata": {},
     "output_type": "execute_result"
    }
   ],
   "source": [
    "sliced_network"
   ]
  },
  {
   "cell_type": "code",
   "execution_count": 27,
   "id": "223e8a7a",
   "metadata": {},
   "outputs": [],
   "source": [
    "edge_list=[]\n",
    "for i in lp:\n",
    "    if i[0] in sliced_network:\n",
    "        edge_list.append(i)"
   ]
  },
  {
   "cell_type": "code",
   "execution_count": 28,
   "id": "37e8e387",
   "metadata": {},
   "outputs": [],
   "source": [
    "for i in edge_list:\n",
    "    G.add_edge(i[0], i[1], weight=float(i[2]))"
   ]
  },
  {
   "cell_type": "code",
   "execution_count": 43,
   "id": "4d39ccf6",
   "metadata": {},
   "outputs": [
    {
     "data": {
      "text/plain": [
       "{'#522324': Text(1.0, 0.5825908120578983, \"{'1034146': '1', '535819': '1'}\"),\n",
       " '#688814': Text(-0.06487700549837887, -0.039593035258393375, \"{'947067': '2', '1614522': '1', '1610407': '1', '767134': '1', '960831': '1', '838659': '5', '509352': '1', '1581184': '1', '1581334': '1', '1587123': '1', '499274': '1', '970663': '3', '1088830': '1', '1088453': '1', '972879': '1', '1418604': '1', '1182580': '1', '1596664': '1', '808298': '3', '567819': '1', '812897': '2', '134504': '2', '13266': '1', '672288': '4', '263510': '1', '726657': '1', '1489313': '2', '98680': '1', '1364884': '2', '909602': '1', '79912': '2', '1525085': '3', '558070': '5', '1213284': '2', '1205616': '14', '448902': '1', '1633706': '3', '449806': '18', '238386': '1', '1386838': '2', '56226': '3', '782876': '1'}\"),\n",
       " '1034146': Text(0.9289422253080633, 0.6300057510814606, '{}'),\n",
       " '947067': Text(-0.18908484709137846, -0.08242370628588648, '{}'),\n",
       " '1614522': Text(-0.2807512063409849, -0.02442191417299432, '{}'),\n",
       " '1610407': Text(0.14778283464642333, -0.016188497896604297, '{}'),\n",
       " '767134': Text(-0.05199226494267781, 0.17479930365692034, '{}'),\n",
       " '960831': Text(-0.24407527104439664, 0.0784926220764303, '{}'),\n",
       " '838659': Text(-0.1305700710061405, -0.04406937227171559, '{}'),\n",
       " '509352': Text(-0.25910256995076514, -0.13333854977016543, '{}'),\n",
       " '1581184': Text(0.10287525432220591, 0.09655695890300839, '{}'),\n",
       " '1581334': Text(0.057405436068141545, 0.1377234635676971, '{}'),\n",
       " '1587123': Text(0.06141124072055523, -0.21958514990351571, '{}'),\n",
       " '499274': Text(0.09480147379894838, -0.17684679533091302, '{}'),\n",
       " '970663': Text(-0.0480014552140784, 0.047649075326459976, '{}'),\n",
       " '1088830': Text(-0.18829714616869372, -0.21588630082247362, '{}'),\n",
       " '1088453': Text(-0.22772535871794453, -0.17784026278907522, '{}'),\n",
       " '972879': Text(-0.1376844817689118, -0.24328043686198753, '{}'),\n",
       " '1418604': Text(0.004065117997058333, 0.165703677842985, '{}'),\n",
       " '1182580': Text(0.13368702823193743, 0.04202774437943195, '{}'),\n",
       " '1596664': Text(-0.27704319909195235, -0.08035415373770223, '{}'),\n",
       " '808298': Text(-0.05844707536787227, -0.14056000572169033, '{}'),\n",
       " '567819': Text(-0.08234899674431252, -0.2513486515548531, '{}'),\n",
       " '812897': Text(-0.15422290182133974, 0.05441553894786655, '{}'),\n",
       " '134504': Text(-0.11299229033862877, -0.16373787512508417, '{}'),\n",
       " '13266': Text(-0.2700382798775585, 0.02997636651124886, '{}'),\n",
       " '672288': Text(-0.023640607505519884, -0.10765629591968216, '{}'),\n",
       " '263510': Text(-0.16206995779643038, 0.15277270816546062, '{}'),\n",
       " '726657': Text(0.012775512100746757, -0.22034753679422198, '{}'),\n",
       " '1489313': Text(-0.18897466281183675, -0.008810092023313433, '{}'),\n",
       " '98680': Text(-0.028246426195721798, -0.2521042182677321, '{}'),\n",
       " '1364884': Text(0.0009634463717676324, 0.07429767712514272, '{}'),\n",
       " '909602': Text(-0.2086978859100544, 0.12168652058438588, '{}'),\n",
       " '79912': Text(0.04820291771699055, 0.03060048935630368, '{}'),\n",
       " '1525085': Text(-0.13165700619431736, -0.10832894603352976, '{}'),\n",
       " '558070': Text(-0.10488955326431276, 0.01007123312072639, '{}'),\n",
       " '1213284': Text(-0.08896463062269219, 0.0889047785040981, '{}'),\n",
       " '1205616': Text(-0.033557102493817506, -0.019285747438623144, '{}'),\n",
       " '448902': Text(0.14757919403848777, -0.07789814626556249, '{}'),\n",
       " '1633706': Text(0.025237842046383845, -0.021763412874349495, '{}'),\n",
       " '449806': Text(-0.07112639257680116, -0.06932439265529278, '{}'),\n",
       " '238386': Text(-0.10854343046642481, 0.17009478056459715, '{}'),\n",
       " '1386838': Text(0.06739486098709668, -0.060552910733847214, '{}'),\n",
       " '535819': Text(0.947712174129281, 0.4977497251934491, '{}'),\n",
       " '56226': Text(0.02018199449526047, -0.09741738755636718, '{}'),\n",
       " '782876': Text(0.12660352384459672, -0.1331554328999929, '{}')}"
      ]
     },
     "execution_count": 43,
     "metadata": {},
     "output_type": "execute_result"
    },
    {
     "data": {
      "image/png": "[encoded data removed]",
      "text/plain": [
       "<Figure size 432x288 with 1 Axes>"
      ]
     },
     "metadata": {},
     "output_type": "display_data"
    }
   ],
   "source": [
    "pos=nx.spring_layout(G)\n",
    "nx.draw_networkx_nodes(G,pos,node_size=250)\n",
    "nx.draw_networkx_edges(G,pos)\n",
    "nx.draw_networkx_edge_labels(G,pos,edge_labels=nx.get_edge_attributes(G,'weight'))\n",
    "nx.draw_networkx_labels(G,pos,labels={n: G.nodes[n] for n in G.nodes},font_size=10,font_family='sans-serif')"
   ]
  },
  {
   "cell_type": "code",
   "execution_count": 30,
   "id": "5e8cdc47",
   "metadata": {},
   "outputs": [
    {
     "name": "stdout",
     "output_type": "stream",
     "text": [
      "#522324 1034146 {'weight': 1.0}\n",
      "#522324 535819 {'weight': 1.0}\n",
      "#688814 947067 {'weight': 2.0}\n",
      "#688814 1614522 {'weight': 1.0}\n",
      "#688814 1610407 {'weight': 1.0}\n",
      "#688814 767134 {'weight': 1.0}\n",
      "#688814 960831 {'weight': 1.0}\n",
      "#688814 838659 {'weight': 5.0}\n",
      "#688814 509352 {'weight': 1.0}\n",
      "#688814 1581184 {'weight': 1.0}\n",
      "#688814 1581334 {'weight': 1.0}\n",
      "#688814 1587123 {'weight': 1.0}\n",
      "#688814 499274 {'weight': 1.0}\n",
      "#688814 970663 {'weight': 3.0}\n",
      "#688814 1088830 {'weight': 1.0}\n",
      "#688814 1088453 {'weight': 1.0}\n",
      "#688814 972879 {'weight': 1.0}\n",
      "#688814 1418604 {'weight': 1.0}\n",
      "#688814 1182580 {'weight': 1.0}\n",
      "#688814 1596664 {'weight': 1.0}\n",
      "#688814 808298 {'weight': 3.0}\n",
      "#688814 567819 {'weight': 1.0}\n",
      "#688814 812897 {'weight': 2.0}\n",
      "#688814 134504 {'weight': 2.0}\n",
      "#688814 13266 {'weight': 1.0}\n",
      "#688814 672288 {'weight': 4.0}\n",
      "#688814 263510 {'weight': 1.0}\n",
      "#688814 726657 {'weight': 1.0}\n",
      "#688814 1489313 {'weight': 2.0}\n",
      "#688814 98680 {'weight': 1.0}\n",
      "#688814 1364884 {'weight': 2.0}\n",
      "#688814 909602 {'weight': 1.0}\n",
      "#688814 79912 {'weight': 2.0}\n",
      "#688814 1525085 {'weight': 3.0}\n",
      "#688814 558070 {'weight': 5.0}\n",
      "#688814 1213284 {'weight': 2.0}\n",
      "#688814 1205616 {'weight': 14.0}\n",
      "#688814 448902 {'weight': 1.0}\n",
      "#688814 1633706 {'weight': 3.0}\n",
      "#688814 449806 {'weight': 18.0}\n",
      "#688814 238386 {'weight': 1.0}\n",
      "#688814 1386838 {'weight': 2.0}\n",
      "#688814 56226 {'weight': 3.0}\n",
      "#688814 782876 {'weight': 1.0}\n"
     ]
    }
   ],
   "source": [
    "for u,v,d in G.edges(data=True):\n",
    "    print(u,v,d)"
   ]
  },
  {
   "cell_type": "code",
   "execution_count": 31,
   "id": "727bf43c",
   "metadata": {},
   "outputs": [
    {
     "data": {
      "text/plain": [
       "{('#522324', '1034146'): 1.0,\n",
       " ('#522324', '535819'): 1.0,\n",
       " ('#688814', '947067'): 2.0,\n",
       " ('#688814', '1614522'): 1.0,\n",
       " ('#688814', '1610407'): 1.0,\n",
       " ('#688814', '767134'): 1.0,\n",
       " ('#688814', '960831'): 1.0,\n",
       " ('#688814', '838659'): 5.0,\n",
       " ('#688814', '509352'): 1.0,\n",
       " ('#688814', '1581184'): 1.0,\n",
       " ('#688814', '1581334'): 1.0,\n",
       " ('#688814', '1587123'): 1.0,\n",
       " ('#688814', '499274'): 1.0,\n",
       " ('#688814', '970663'): 3.0,\n",
       " ('#688814', '1088830'): 1.0,\n",
       " ('#688814', '1088453'): 1.0,\n",
       " ('#688814', '972879'): 1.0,\n",
       " ('#688814', '1418604'): 1.0,\n",
       " ('#688814', '1182580'): 1.0,\n",
       " ('#688814', '1596664'): 1.0,\n",
       " ('#688814', '808298'): 3.0,\n",
       " ('#688814', '567819'): 1.0,\n",
       " ('#688814', '812897'): 2.0,\n",
       " ('#688814', '134504'): 2.0,\n",
       " ('#688814', '13266'): 1.0,\n",
       " ('#688814', '672288'): 4.0,\n",
       " ('#688814', '263510'): 1.0,\n",
       " ('#688814', '726657'): 1.0,\n",
       " ('#688814', '1489313'): 2.0,\n",
       " ('#688814', '98680'): 1.0,\n",
       " ('#688814', '1364884'): 2.0,\n",
       " ('#688814', '909602'): 1.0,\n",
       " ('#688814', '79912'): 2.0,\n",
       " ('#688814', '1525085'): 3.0,\n",
       " ('#688814', '558070'): 5.0,\n",
       " ('#688814', '1213284'): 2.0,\n",
       " ('#688814', '1205616'): 14.0,\n",
       " ('#688814', '448902'): 1.0,\n",
       " ('#688814', '1633706'): 3.0,\n",
       " ('#688814', '449806'): 18.0,\n",
       " ('#688814', '238386'): 1.0,\n",
       " ('#688814', '1386838'): 2.0,\n",
       " ('#688814', '56226'): 3.0,\n",
       " ('#688814', '782876'): 1.0}"
      ]
     },
     "execution_count": 31,
     "metadata": {},
     "output_type": "execute_result"
    }
   ],
   "source": [
    "nx.get_edge_attributes(G,'weight')"
   ]
  },
  {
   "cell_type": "code",
   "execution_count": 32,
   "id": "d2e49a64",
   "metadata": {},
   "outputs": [
    {
     "ename": "TypeError",
     "evalue": "get_node_attributes() missing 1 required positional argument: 'name'",
     "output_type": "error",
     "traceback": [
      "\u001b[0;31m---------------------------------------------------------------------------\u001b[0m",
      "\u001b[0;31mTypeError\u001b[0m                                 Traceback (most recent call last)",
      "\u001b[0;32m/tmp/ipykernel_12296/2526779277.py\u001b[0m in \u001b[0;36m<module>\u001b[0;34m\u001b[0m\n\u001b[0;32m----> 1\u001b[0;31m \u001b[0mnx\u001b[0m\u001b[0;34m.\u001b[0m\u001b[0mget_node_attributes\u001b[0m\u001b[0;34m(\u001b[0m\u001b[0mG\u001b[0m\u001b[0;34m)\u001b[0m\u001b[0;34m\u001b[0m\u001b[0;34m\u001b[0m\u001b[0m\n\u001b[0m",
      "\u001b[0;31mTypeError\u001b[0m: get_node_attributes() missing 1 required positional argument: 'name'"
     ]
    }
   ],
   "source": [
    "nx.get_node_attributes(G)"
   ]
  },
  {
   "cell_type": "code",
   "execution_count": null,
   "id": "6be7230f",
   "metadata": {},
   "outputs": [],
   "source": []
  }
 ],
 "metadata": {
  "kernelspec": {
   "display_name": "Python 3 (ipykernel)",
   "language": "python",
   "name": "python3"
  },
  "language_info": {
   "codemirror_mode": {
    "name": "ipython",
    "version": 3
   },
   "file_extension": ".py",
   "mimetype": "text/x-python",
   "name": "python",
   "nbconvert_exporter": "python",
   "pygments_lexer": "ipython3",
   "version": "3.10.6"
  }
 },
 "nbformat": 4,
 "nbformat_minor": 5
}
