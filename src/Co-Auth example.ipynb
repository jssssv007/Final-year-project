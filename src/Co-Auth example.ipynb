{
 "cells": [
  {
   "cell_type": "code",
   "execution_count": 2,
   "id": "2e3f4ec1",
   "metadata": {},
   "outputs": [],
   "source": [
    "import networkx as nx \n",
    "import matplotlib.pyplot as plt\n",
    "G=nx.Graph()\n",
    "G.add_node(\"A\",age=19,gender='F')\n",
    "G.add_node(\"B\",age=20,gender='M')\n",
    "G.add_node(\"C\",age=21,gender='F')\n",
    "G.add_node(\"D\",age=22,gender='M')\n",
    "G.add_node(\"E\",age=23,gender='F')\n",
    "G.add_edge(\"A\",\"B\",weight=1)\n",
    "G.add_edge(\"A\",\"C\",weight=2)\n",
    "G.add_edge(\"A\",\"D\",weight=3)\n",
    "G.add_edge(\"A\",\"E\",weight=4)\n",
    "G.add_edge(\"B\",\"C\",weight=5)"
   ]
  },
  {
   "cell_type": "code",
   "execution_count": 3,
   "id": "cf0714dd",
   "metadata": {},
   "outputs": [],
   "source": [
    "pos = nx.spring_layout(G) \n",
    "node_labels=nx.get_node_attributes(G,'age')"
   ]
  },
  {
   "cell_type": "code",
   "execution_count": 4,
   "id": "e3f8c8b4",
   "metadata": {},
   "outputs": [
    {
     "data": {
      "text/plain": [
       "{'A': 19, 'B': 20, 'C': 21, 'D': 22, 'E': 23}"
      ]
     },
     "execution_count": 4,
     "metadata": {},
     "output_type": "execute_result"
    }
   ],
   "source": [
    "node_labels"
   ]
  },
  {
   "cell_type": "code",
   "execution_count": 7,
   "id": "1829c1ac",
   "metadata": {},
   "outputs": [
    {
     "data": {
      "text/plain": [
       "<matplotlib.collections.PathCollection at 0x7f05233d36a0>"
      ]
     },
     "execution_count": 7,
     "metadata": {},
     "output_type": "execute_result"
    },
    {
     "data": {
      "image/png": "[encoded data removed]",
      "text/plain": [
       "<Figure size 432x288 with 1 Axes>"
      ]
     },
     "metadata": {},
     "output_type": "display_data"
    }
   ],
   "source": [
    "nx.draw_networkx_nodes(G,pos,label=node_labels)"
   ]
  },
  {
   "cell_type": "code",
   "execution_count": null,
   "id": "6237c3ee",
   "metadata": {},
   "outputs": [],
   "source": []
  }
 ],
 "metadata": {
  "kernelspec": {
   "display_name": "Python 3 (ipykernel)",
   "language": "python",
   "name": "python3"
  },
  "language_info": {
   "codemirror_mode": {
    "name": "ipython",
    "version": 3
   },
   "file_extension": ".py",
   "mimetype": "text/x-python",
   "name": "python",
   "nbconvert_exporter": "python",
   "pygments_lexer": "ipython3",
   "version": "3.10.6"
  }
 },
 "nbformat": 4,
 "nbformat_minor": 5
}
