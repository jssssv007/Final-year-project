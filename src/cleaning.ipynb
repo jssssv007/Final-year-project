{
 "cells": [
  {
   "cell_type": "code",
   "execution_count": 8,
   "metadata": {
    "id": "fwtz5UKIHosw"
   },
   "outputs": [
    {
     "name": "stdout",
     "output_type": "stream",
     "text": [
      "Defaulting to user installation because normal site-packages is not writeable\n",
      "Requirement already satisfied: pandas in ./.local/lib/python3.10/site-packages (1.5.3)\n",
      "Requirement already satisfied: python-dateutil>=2.8.1 in /usr/lib/python3/dist-packages (from pandas) (2.8.1)\n",
      "Requirement already satisfied: numpy>=1.21.0 in /usr/lib/python3/dist-packages (from pandas) (1.21.5)\n",
      "Requirement already satisfied: pytz>=2020.1 in /usr/lib/python3/dist-packages (from pandas) (2022.1)\n"
     ]
    }
   ],
   "source": [
    "!python3 -m  pip install pandas"
   ]
  },
  {
   "cell_type": "markdown",
   "metadata": {
    "id": "ygegnjg2SXvj"
   },
   "source": [
    "## Importing required packages"
   ]
  },
  {
   "cell_type": "code",
   "execution_count": 1,
   "metadata": {
    "executionInfo": {
     "elapsed": 434,
     "status": "ok",
     "timestamp": 1661493070880,
     "user": {
      "displayName": "Deepthi L R",
      "userId": "00033363367583981681"
     },
     "user_tz": -330
    },
    "id": "wu70fbGTSZuL"
   },
   "outputs": [],
   "source": [
    "import pandas as pd\n",
    "from tqdm import *"
   ]
  },
  {
   "cell_type": "code",
   "execution_count": 3,
   "metadata": {},
   "outputs": [
    {
     "name": "stdout",
     "output_type": "stream",
     "text": [
      " AMiner-Author.txt    'Data_preprocess (1).ipynb'    output.txt    output3.txt\r\n",
      " AMiner-Coauthor.txt  'MultilayerNt (1) (1).ipynb'   output1.txt\r\n",
      " AMiner-Paper.txt      \u001b[0m\u001b[01;34mjaffa\u001b[0m/                        output2.txt\r\n"
     ]
    }
   ],
   "source": [
    "ls"
   ]
  },
  {
   "cell_type": "markdown",
   "metadata": {
    "id": "TQd_UMlMT3gd"
   },
   "source": [
    "### Declaring the path of the file and reading the data"
   ]
  },
  {
   "cell_type": "code",
   "execution_count": 9,
   "metadata": {
    "executionInfo": {
     "elapsed": 38124,
     "status": "ok",
     "timestamp": 1661493151636,
     "user": {
      "displayName": "Deepthi L R",
      "userId": "00033363367583981681"
     },
     "user_tz": -330
    },
    "id": "8r-evgQUwcEc"
   },
   "outputs": [],
   "source": [
    "authordata= 'output1.txt'\n",
    "\n",
    "# Authors File\n",
    "file1=open(authordata ,'r')\n",
    "lines=file1.readlines()"
   ]
  },
  {
   "cell_type": "code",
   "execution_count": 10,
   "metadata": {
    "colab": {
     "base_uri": "https://localhost:8080/"
    },
    "executionInfo": {
     "elapsed": 427,
     "status": "ok",
     "timestamp": 1661493159303,
     "user": {
      "displayName": "Deepthi L R",
      "userId": "00033363367583981681"
     },
     "user_tz": -330
    },
    "id": "uYLJZNDdcOZB",
    "outputId": "a0a16073-f241-412a-89f5-3a0566ceda80"
   },
   "outputs": [
    {
     "data": {
      "text/plain": [
       "5323540"
      ]
     },
     "execution_count": 10,
     "metadata": {},
     "output_type": "execute_result"
    }
   ],
   "source": [
    "len(lines)\n"
   ]
  },
  {
   "cell_type": "markdown",
   "metadata": {
    "id": "8BT_Ptv1J4CS"
   },
   "source": [
    "#Creating Author DataFrame "
   ]
  },
  {
   "cell_type": "markdown",
   "metadata": {
    "id": "0SEGoWurVP9J"
   },
   "source": [
    "### Iterating and making list for each attribute"
   ]
  },
  {
   "cell_type": "code",
   "execution_count": 11,
   "metadata": {
    "executionInfo": {
     "elapsed": 21115,
     "status": "ok",
     "timestamp": 1661493187868,
     "user": {
      "displayName": "Deepthi L R",
      "userId": "00033363367583981681"
     },
     "user_tz": -330
    },
    "id": "Drsdg32pisYP"
   },
   "outputs": [],
   "source": [
    "#index ---- index id of this author\n",
    "#n ---- name  (separated by semicolons)\n",
    "#a ---- affiliations  (separated by semicolons)\n",
    "#pc ---- the count of published papers of this author\n",
    "#cn ---- the total number of citations of this author\n",
    "#hi ---- the H-index of this author\n",
    "#t ---- research interests of this author  (separated by semicolons)\n",
    "authId=[]\n",
    "authname=[]\n",
    "pubpaper=[]\n",
    "affilications=[]\n",
    "citation_count=[]\n",
    "h_index=[]\n",
    "interests=[]\n",
    "pindequal=[]\n",
    "pindexinequ=[]\n",
    "for i in range(len(lines)):\n",
    "  if lines[i][0]=='#':\n",
    "    if lines[i][1]=='i':\n",
    "      authId.append(lines[i][7:-1])\n",
    "    if lines[i][1]=='n':\n",
    "      authname.append(lines[i][3:-1])\n",
    "    if lines[i][1:3]=='pc':\n",
    "      pubpaper.append(lines[i][4:-1])\n",
    "    if lines[i][1:3]=='hi':\n",
    "      h_index.append(lines[i][4:-1])\n",
    "    if lines[i][1]=='a':\n",
    "      affilications.append(lines[i][3:-1])\n",
    "    if lines[i][1:3]=='pi':\n",
    "        pindequal.append(lines[i][4:-1])\n",
    "    if lines[i][1:4]=='upi':\n",
    "       pindexinequ.append(lines[i][5:-1])\n",
    "    if lines[i][1]=='t':\n",
    "      interests.append(lines[i][3:-1])\n",
    "    if lines[i][1:3]=='cn':\n",
    "      citation_count.append(lines[i][4:-1])\n",
    "  \n",
    "    "
   ]
  },
  {
   "cell_type": "markdown",
   "metadata": {
    "id": "debAF_uwVhk9"
   },
   "source": [
    "### Checking length of records of each attr"
   ]
  },
  {
   "cell_type": "code",
   "execution_count": 12,
   "metadata": {
    "colab": {
     "base_uri": "https://localhost:8080/"
    },
    "executionInfo": {
     "elapsed": 619,
     "status": "ok",
     "timestamp": 1661493194122,
     "user": {
      "displayName": "Deepthi L R",
      "userId": "00033363367583981681"
     },
     "user_tz": -330
    },
    "id": "AzbsxBaIAL23",
    "outputId": "fa974ca9-ddfd-415f-a422-00eac60228bc"
   },
   "outputs": [
    {
     "name": "stdout",
     "output_type": "stream",
     "text": [
      "532354 8 1712432\n",
      "532354 Chih-Yung Wen Johan Agat\n",
      "532354\n",
      "532354\n",
      "532354\n",
      "532354\n",
      "532354\n"
     ]
    }
   ],
   "source": [
    "print(len(authId),authId[0],authId[-1])\n",
    "print(len(authname),authname[0],authname[-1])\n",
    "print(len(pubpaper))\n",
    "print(len(affilications))\n",
    "print(len(citation_count))\n",
    "print(len(h_index))\n",
    "print(len(interests))"
   ]
  },
  {
   "cell_type": "markdown",
   "metadata": {
    "id": "qwJk-rVVVxFJ"
   },
   "source": [
    "### Creating dataframe and converting to CSV"
   ]
  },
  {
   "cell_type": "code",
   "execution_count": 13,
   "metadata": {
    "executionInfo": {
     "elapsed": 17312,
     "status": "ok",
     "timestamp": 1661493216919,
     "user": {
      "displayName": "Deepthi L R",
      "userId": "00033363367583981681"
     },
     "user_tz": -330
    },
    "id": "jyHGG-Oj8Ofa"
   },
   "outputs": [],
   "source": [
    "author_df = pd.DataFrame(list(zip(authId,authname,pubpaper,affilications,citation_count,h_index,interests)), columns =['AuthorId','Author Name','Paper Publications','Afflications','Citation Count','H Index','Paper of interests'])\n",
    "author_df.to_csv('author.csv')"
   ]
  },
  {
   "cell_type": "markdown",
   "metadata": {
    "id": "CDM7V2SsvHgM"
   },
   "source": [
    "# Removing Duplicates"
   ]
  },
  {
   "cell_type": "code",
   "execution_count": 14,
   "metadata": {
    "executionInfo": {
     "elapsed": 6545,
     "status": "ok",
     "timestamp": 1661493226032,
     "user": {
      "displayName": "Deepthi L R",
      "userId": "00033363367583981681"
     },
     "user_tz": -330
    },
    "id": "1ZTjCp_kvE1u"
   },
   "outputs": [],
   "source": [
    "author_df.drop_duplicates(inplace = True)"
   ]
  },
  {
   "cell_type": "code",
   "execution_count": 15,
   "metadata": {
    "colab": {
     "base_uri": "https://localhost:8080/",
     "height": 424
    },
    "executionInfo": {
     "elapsed": 415,
     "status": "ok",
     "timestamp": 1661493229095,
     "user": {
      "displayName": "Deepthi L R",
      "userId": "00033363367583981681"
     },
     "user_tz": -330
    },
    "id": "okamXGxCcuUM",
    "outputId": "f52af6c7-77c9-4dba-ecf5-431400b2381e"
   },
   "outputs": [
    {
     "data": {
      "text/html": [
       "<div>\n",
       "<style scoped>\n",
       "    .dataframe tbody tr th:only-of-type {\n",
       "        vertical-align: middle;\n",
       "    }\n",
       "\n",
       "    .dataframe tbody tr th {\n",
       "        vertical-align: top;\n",
       "    }\n",
       "\n",
       "    .dataframe thead th {\n",
       "        text-align: right;\n",
       "    }\n",
       "</style>\n",
       "<table border=\"1\" class=\"dataframe\">\n",
       "  <thead>\n",
       "    <tr style=\"text-align: right;\">\n",
       "      <th></th>\n",
       "      <th>AuthorId</th>\n",
       "      <th>Author Name</th>\n",
       "      <th>Paper Publications</th>\n",
       "      <th>Afflications</th>\n",
       "      <th>Citation Count</th>\n",
       "      <th>H Index</th>\n",
       "      <th>Paper of interests</th>\n",
       "    </tr>\n",
       "  </thead>\n",
       "  <tbody>\n",
       "    <tr>\n",
       "      <th>0</th>\n",
       "      <td>8</td>\n",
       "      <td>Chih-Yung Wen</td>\n",
       "      <td>3</td>\n",
       "      <td>National ChengKung University, Department of A...</td>\n",
       "      <td>1</td>\n",
       "      <td>1</td>\n",
       "      <td>diaphragm deflection;magnetic force;flexible P...</td>\n",
       "    </tr>\n",
       "    <tr>\n",
       "      <th>1</th>\n",
       "      <td>10</td>\n",
       "      <td>Anon et al</td>\n",
       "      <td>47</td>\n",
       "      <td>Wayne State University;Anonymous, USA;A Commer...</td>\n",
       "      <td>67</td>\n",
       "      <td>3</td>\n",
       "      <td>security consultant;network security;security ...</td>\n",
       "    </tr>\n",
       "    <tr>\n",
       "      <th>2</th>\n",
       "      <td>13</td>\n",
       "      <td>Kimberly Weaver</td>\n",
       "      <td>9</td>\n",
       "      <td>Iowa State University;Georgia Institute of Tec...</td>\n",
       "      <td>14</td>\n",
       "      <td>2</td>\n",
       "      <td>sign language;hearing parent;deaf child;langua...</td>\n",
       "    </tr>\n",
       "    <tr>\n",
       "      <th>3</th>\n",
       "      <td>15</td>\n",
       "      <td>IEEE Region 7</td>\n",
       "      <td>16</td>\n",
       "      <td>Department of Computer Science and Engineering...</td>\n",
       "      <td>35</td>\n",
       "      <td>3</td>\n",
       "      <td>Visual Language;different space;topological va...</td>\n",
       "    </tr>\n",
       "    <tr>\n",
       "      <th>4</th>\n",
       "      <td>21</td>\n",
       "      <td>P. R. White</td>\n",
       "      <td>9</td>\n",
       "      <td>ISVR, University of Southampton, Southampton, ...</td>\n",
       "      <td>18</td>\n",
       "      <td>3</td>\n",
       "      <td>successive speech frame;speech enhancement alg...</td>\n",
       "    </tr>\n",
       "    <tr>\n",
       "      <th>...</th>\n",
       "      <td>...</td>\n",
       "      <td>...</td>\n",
       "      <td>...</td>\n",
       "      <td>...</td>\n",
       "      <td>...</td>\n",
       "      <td>...</td>\n",
       "      <td>...</td>\n",
       "    </tr>\n",
       "    <tr>\n",
       "      <th>532349</th>\n",
       "      <td>1712427</td>\n",
       "      <td>P. J. Armstrong</td>\n",
       "      <td>2</td>\n",
       "      <td>Oxford University Computing Laboratory,</td>\n",
       "      <td>2</td>\n",
       "      <td>1</td>\n",
       "      <td>Local Search;bounded model checking technology...</td>\n",
       "    </tr>\n",
       "    <tr>\n",
       "      <th>532350</th>\n",
       "      <td>1712428</td>\n",
       "      <td>L. Cruz-Filipe</td>\n",
       "      <td>6</td>\n",
       "      <td>SQIGIT and IST, Portugal;Department of Informa...</td>\n",
       "      <td>19</td>\n",
       "      <td>3</td>\n",
       "      <td>active integrity constraint;Fundamental Theore...</td>\n",
       "    </tr>\n",
       "    <tr>\n",
       "      <th>532351</th>\n",
       "      <td>1712430</td>\n",
       "      <td>David Vineyard</td>\n",
       "      <td>5</td>\n",
       "      <td>Univ. of Michigan, Flint</td>\n",
       "      <td>24</td>\n",
       "      <td>1</td>\n",
       "      <td>partial order graph;query graph;optimal full r...</td>\n",
       "    </tr>\n",
       "    <tr>\n",
       "      <th>532352</th>\n",
       "      <td>1712431</td>\n",
       "      <td>C. Lizzi</td>\n",
       "      <td>4</td>\n",
       "      <td>Sun Microsystems, France</td>\n",
       "      <td>16</td>\n",
       "      <td>1</td>\n",
       "      <td>Replication Logic;ATM Adaptation Layer;ATM Net...</td>\n",
       "    </tr>\n",
       "    <tr>\n",
       "      <th>532353</th>\n",
       "      <td>1712432</td>\n",
       "      <td>Johan Agat</td>\n",
       "      <td>3</td>\n",
       "      <td>Department of Computing Science, Chalmers Univ...</td>\n",
       "      <td>82</td>\n",
       "      <td>2</td>\n",
       "      <td>secure information flow;timing leakage;externa...</td>\n",
       "    </tr>\n",
       "  </tbody>\n",
       "</table>\n",
       "<p>532354 rows × 7 columns</p>\n",
       "</div>"
      ],
      "text/plain": [
       "       AuthorId      Author Name Paper Publications  \\\n",
       "0             8    Chih-Yung Wen                  3   \n",
       "1            10       Anon et al                 47   \n",
       "2            13  Kimberly Weaver                  9   \n",
       "3            15    IEEE Region 7                 16   \n",
       "4            21      P. R. White                  9   \n",
       "...         ...              ...                ...   \n",
       "532349  1712427  P. J. Armstrong                  2   \n",
       "532350  1712428   L. Cruz-Filipe                  6   \n",
       "532351  1712430   David Vineyard                  5   \n",
       "532352  1712431         C. Lizzi                  4   \n",
       "532353  1712432       Johan Agat                  3   \n",
       "\n",
       "                                             Afflications Citation Count  \\\n",
       "0       National ChengKung University, Department of A...              1   \n",
       "1       Wayne State University;Anonymous, USA;A Commer...             67   \n",
       "2       Iowa State University;Georgia Institute of Tec...             14   \n",
       "3       Department of Computer Science and Engineering...             35   \n",
       "4       ISVR, University of Southampton, Southampton, ...             18   \n",
       "...                                                   ...            ...   \n",
       "532349            Oxford University Computing Laboratory,              2   \n",
       "532350  SQIGIT and IST, Portugal;Department of Informa...             19   \n",
       "532351                           Univ. of Michigan, Flint             24   \n",
       "532352                           Sun Microsystems, France             16   \n",
       "532353  Department of Computing Science, Chalmers Univ...             82   \n",
       "\n",
       "       H Index                                 Paper of interests  \n",
       "0            1  diaphragm deflection;magnetic force;flexible P...  \n",
       "1            3  security consultant;network security;security ...  \n",
       "2            2  sign language;hearing parent;deaf child;langua...  \n",
       "3            3  Visual Language;different space;topological va...  \n",
       "4            3  successive speech frame;speech enhancement alg...  \n",
       "...        ...                                                ...  \n",
       "532349       1  Local Search;bounded model checking technology...  \n",
       "532350       3  active integrity constraint;Fundamental Theore...  \n",
       "532351       1  partial order graph;query graph;optimal full r...  \n",
       "532352       1  Replication Logic;ATM Adaptation Layer;ATM Net...  \n",
       "532353       2  secure information flow;timing leakage;externa...  \n",
       "\n",
       "[532354 rows x 7 columns]"
      ]
     },
     "execution_count": 15,
     "metadata": {},
     "output_type": "execute_result"
    }
   ],
   "source": [
    "author_df"
   ]
  },
  {
   "cell_type": "markdown",
   "metadata": {
    "id": "68jE855l_taS"
   },
   "source": [
    "# Creating Paper DataFrame"
   ]
  },
  {
   "cell_type": "markdown",
   "metadata": {
    "id": "kGfaOyjvWcZZ"
   },
   "source": [
    "### Iterating and making list for each attribute"
   ]
  },
  {
   "cell_type": "code",
   "execution_count": 37,
   "metadata": {},
   "outputs": [],
   "source": [
    "#Papers File\n",
    "papertxtfile=open('paper.txt' ,'r')\n",
    "paper_lines=papertxtfile.readlines()"
   ]
  },
  {
   "cell_type": "code",
   "execution_count": 27,
   "metadata": {},
   "outputs": [],
   "source": [
    "papertxtfile1=open('AMiner-Paper.txt','r')\n",
    "paper_lines1=papertxtfile1.readlines()"
   ]
  },
  {
   "cell_type": "code",
   "execution_count": 38,
   "metadata": {},
   "outputs": [
    {
     "data": {
      "text/plain": [
       "['#index 46\\n',\n",
       " '#* On the Multiple Implementation of Abstract Data Types Within a Computation\\n']"
      ]
     },
     "execution_count": 38,
     "metadata": {},
     "output_type": "execute_result"
    }
   ],
   "source": [
    "paper_lines[:2]"
   ]
  },
  {
   "cell_type": "code",
   "execution_count": 19,
   "metadata": {},
   "outputs": [
    {
     "data": {
      "text/plain": [
       "'#@ Marjorie Richardson\\n'"
      ]
     },
     "execution_count": 19,
     "metadata": {},
     "output_type": "execute_result"
    }
   ],
   "source": [
    "paper_lines1[2]\n"
   ]
  },
  {
   "cell_type": "code",
   "execution_count": 39,
   "metadata": {
    "executionInfo": {
     "elapsed": 1496,
     "status": "ok",
     "timestamp": 1661493242298,
     "user": {
      "displayName": "Deepthi L R",
      "userId": "00033363367583981681"
     },
     "user_tz": -330
    },
    "id": "IMkILlx4M_fk"
   },
   "outputs": [
    {
     "name": "stderr",
     "output_type": "stream",
     "text": [
      "100%|███████████████████████████████████████████| 1000000/1000000 [00:03<00:00, 317750.54it/s]\n"
     ]
    }
   ],
   "source": [
    "index=[]\n",
    "papertitle=[] \n",
    "authors=[] \n",
    "affiliations=[] \n",
    "year=[] \n",
    "publicationvenue=[] \n",
    "idref=[] \n",
    "abstract=[] \n",
    "ind_lst = list() \n",
    "# for i in range(len(paper_lines)-1): \n",
    "for i in trange(1000000): \n",
    "    if paper_lines[i] == '\\n': \n",
    "      if paper_lines[i-1][1] != '!' and paper_lines[i-1][1] !='%': \n",
    "        idref.append(0) \n",
    "        abstract.append('null') \n",
    "      elif paper_lines[i-1][1] != '!' and paper_lines[i-1][1] == '%': \n",
    "        idref.append((ind_lst))\n",
    "        ind_lst = [] \n",
    "        abstract.append('null') \n",
    "      elif paper_lines[i-1][1] == '!' and paper_lines[i-2][1] != '%': \n",
    "        idref.append(0) \n",
    "      else: \n",
    "        pass \n",
    "    elif paper_lines[i][0]=='#': \n",
    "      if paper_lines[i][1]=='i':\n",
    "        index.append(paper_lines[i][7:-1])\n",
    "      if paper_lines[i][1]=='*':\n",
    "        papertitle.append(paper_lines[i][2:-1])\n",
    "      if paper_lines[i][1]=='@':\n",
    "        authors.append(paper_lines[i][2:-1])\n",
    "      if paper_lines[i][1]=='o':\n",
    "        affiliations.append(paper_lines[i][2:-1])\n",
    "      if paper_lines[i][1]=='t':\n",
    "        year.append(paper_lines[i][2:-1])\n",
    "      if paper_lines[i][1]=='c':\n",
    "        publicationvenue.append(paper_lines[i][2:-1]) \n",
    "      if paper_lines[i][1]=='%': \n",
    "        ind_lst.append(int(paper_lines[i][3:-1])) \n",
    "      if paper_lines[i][1]=='!' and (paper_lines[i-1][1]== '%'): \n",
    "        idref.append((ind_lst)) \n",
    "        ind_lst = [] \n",
    "        abstract.append(paper_lines[i][2:-1]) \n",
    "      if paper_lines[i][1]==\"!\" and paper_lines[i-1][1]!='%': \n",
    "        abstract.append(paper_lines[i][2:-1])"
   ]
  },
  {
   "cell_type": "code",
   "execution_count": 40,
   "metadata": {
    "colab": {
     "base_uri": "https://localhost:8080/"
    },
    "executionInfo": {
     "elapsed": 456,
     "status": "ok",
     "timestamp": 1661493247483,
     "user": {
      "displayName": "Deepthi L R",
      "userId": "00033363367583981681"
     },
     "user_tz": -330
    },
    "id": "3ZuL6Piwe9qd",
    "outputId": "7fd0991c-2fa5-48bc-e051-ee91575ab96b"
   },
   "outputs": [
    {
     "name": "stdout",
     "output_type": "stream",
     "text": [
      "index 64959\n",
      "papertitle 64959\n",
      "authors 64959\n",
      "affiliations 64959\n",
      "year 64959\n",
      "ref 64958\n",
      "abstract 64958\n"
     ]
    }
   ],
   "source": [
    "print(\"index\",len(index))\n",
    "print(\"papertitle\",len(papertitle))\n",
    "print(\"authors\",len(authors))\n",
    "print(\"affiliations\",len(affiliations))\n",
    "print(\"year\",len(year))\n",
    "print('ref',len(idref))\n",
    "print('abstract',len(abstract))"
   ]
  },
  {
   "cell_type": "markdown",
   "metadata": {
    "id": "XiHegKpYX_xa"
   },
   "source": [
    "### Creating Paper Data Frame"
   ]
  },
  {
   "cell_type": "code",
   "execution_count": 41,
   "metadata": {
    "executionInfo": {
     "elapsed": 411,
     "status": "ok",
     "timestamp": 1661493253268,
     "user": {
      "displayName": "Deepthi L R",
      "userId": "00033363367583981681"
     },
     "user_tz": -330
    },
    "id": "DPFgWRizeoBJ"
   },
   "outputs": [],
   "source": [
    "data1 = pd.DataFrame(list(zip(index,papertitle,authors,affiliations,year,publicationvenue,idref,abstract)), columns =['Index','Paper Title','Authors','Afflications','Year','Venue','Idref','abstract'])"
   ]
  },
  {
   "cell_type": "code",
   "execution_count": 42,
   "metadata": {
    "colab": {
     "base_uri": "https://localhost:8080/",
     "height": 624
    },
    "executionInfo": {
     "elapsed": 516,
     "status": "ok",
     "timestamp": 1661493262834,
     "user": {
      "displayName": "Deepthi L R",
      "userId": "00033363367583981681"
     },
     "user_tz": -330
    },
    "id": "jyb8inFnYi2b",
    "outputId": "21371d51-4d0f-4981-fc31-a308393956df"
   },
   "outputs": [
    {
     "data": {
      "text/html": [
       "<div>\n",
       "<style scoped>\n",
       "    .dataframe tbody tr th:only-of-type {\n",
       "        vertical-align: middle;\n",
       "    }\n",
       "\n",
       "    .dataframe tbody tr th {\n",
       "        vertical-align: top;\n",
       "    }\n",
       "\n",
       "    .dataframe thead th {\n",
       "        text-align: right;\n",
       "    }\n",
       "</style>\n",
       "<table border=\"1\" class=\"dataframe\">\n",
       "  <thead>\n",
       "    <tr style=\"text-align: right;\">\n",
       "      <th></th>\n",
       "      <th>Index</th>\n",
       "      <th>Paper Title</th>\n",
       "      <th>Authors</th>\n",
       "      <th>Afflications</th>\n",
       "      <th>Year</th>\n",
       "      <th>Venue</th>\n",
       "      <th>Idref</th>\n",
       "      <th>abstract</th>\n",
       "    </tr>\n",
       "  </thead>\n",
       "  <tbody>\n",
       "    <tr>\n",
       "      <th>0</th>\n",
       "      <td>46</td>\n",
       "      <td>On the Multiple Implementation of Abstract Da...</td>\n",
       "      <td>J. R White</td>\n",
       "      <td>Xerox Palo Alto Research Center, Palo Alto, CA</td>\n",
       "      <td>1983</td>\n",
       "      <td>IEEE Transactions on Software Engineering</td>\n",
       "      <td>0</td>\n",
       "      <td>A fundamental step in the software design pro...</td>\n",
       "    </tr>\n",
       "    <tr>\n",
       "      <th>1</th>\n",
       "      <td>103</td>\n",
       "      <td>Smalltalk-80: the language and its implementa...</td>\n",
       "      <td>David Robson</td>\n",
       "      <td>Xerox Palo Alto Research Center;Xerox Palo Al...</td>\n",
       "      <td>1983</td>\n",
       "      <td>Smalltalk-80: the language and its implementa...</td>\n",
       "      <td>0</td>\n",
       "      <td>From the Preface (See Front Matter for full P...</td>\n",
       "    </tr>\n",
       "    <tr>\n",
       "      <th>2</th>\n",
       "      <td>103</td>\n",
       "      <td>Smalltalk-80: the language and its implementa...</td>\n",
       "      <td>Adele Goldberg</td>\n",
       "      <td>Xerox Palo Alto Research Center;Xerox Palo Al...</td>\n",
       "      <td>1983</td>\n",
       "      <td>Smalltalk-80: the language and its implementa...</td>\n",
       "      <td>0</td>\n",
       "      <td>From the Preface (See Front Matter for full P...</td>\n",
       "    </tr>\n",
       "    <tr>\n",
       "      <th>3</th>\n",
       "      <td>119</td>\n",
       "      <td>Algorithms for trie compaction</td>\n",
       "      <td>E Horowitz</td>\n",
       "      <td>Univ. of Southern California, CA;Univ. of Sou...</td>\n",
       "      <td>1984</td>\n",
       "      <td>ACM Transactions on Database Systems (TODS)</td>\n",
       "      <td>[1158, 252608, 287327, 287498, 289081, 326293,...</td>\n",
       "      <td>The trie data structure has many properties w...</td>\n",
       "    </tr>\n",
       "    <tr>\n",
       "      <th>4</th>\n",
       "      <td>119</td>\n",
       "      <td>Algorithms for trie compaction</td>\n",
       "      <td>M. Al-Suwaiyel</td>\n",
       "      <td>Univ. of Southern California, CA;Univ. of Sou...</td>\n",
       "      <td>1984</td>\n",
       "      <td>ACM Transactions on Database Systems (TODS)</td>\n",
       "      <td>[1158, 252608, 287327, 287498, 289081, 326293,...</td>\n",
       "      <td>The trie data structure has many properties w...</td>\n",
       "    </tr>\n",
       "    <tr>\n",
       "      <th>...</th>\n",
       "      <td>...</td>\n",
       "      <td>...</td>\n",
       "      <td>...</td>\n",
       "      <td>...</td>\n",
       "      <td>...</td>\n",
       "      <td>...</td>\n",
       "      <td>...</td>\n",
       "      <td>...</td>\n",
       "    </tr>\n",
       "    <tr>\n",
       "      <th>64953</th>\n",
       "      <td>308469</td>\n",
       "      <td>Beyond document similarity: understanding val...</td>\n",
       "      <td>Junghoo Cho</td>\n",
       "      <td>Stanford University;Stanford University;Unive...</td>\n",
       "      <td>2000</td>\n",
       "      <td>ACM SIGMOD Record</td>\n",
       "      <td>0</td>\n",
       "      <td>In the face of small, one or two word queries...</td>\n",
       "    </tr>\n",
       "    <tr>\n",
       "      <th>64954</th>\n",
       "      <td>308469</td>\n",
       "      <td>Beyond document similarity: understanding val...</td>\n",
       "      <td>Hector Garcia-Molina</td>\n",
       "      <td>Stanford University;Stanford University;Unive...</td>\n",
       "      <td>2000</td>\n",
       "      <td>ACM SIGMOD Record</td>\n",
       "      <td>0</td>\n",
       "      <td>In the face of small, one or two word queries...</td>\n",
       "    </tr>\n",
       "    <tr>\n",
       "      <th>64955</th>\n",
       "      <td>308469</td>\n",
       "      <td>Beyond document similarity: understanding val...</td>\n",
       "      <td>Andreas Paepcke</td>\n",
       "      <td>Stanford University;Stanford University;Unive...</td>\n",
       "      <td>2000</td>\n",
       "      <td>ACM SIGMOD Record</td>\n",
       "      <td>0</td>\n",
       "      <td>In the face of small, one or two word queries...</td>\n",
       "    </tr>\n",
       "    <tr>\n",
       "      <th>64956</th>\n",
       "      <td>308470</td>\n",
       "      <td>Displaced subdivision surfaces</td>\n",
       "      <td>Hugues Hoppe</td>\n",
       "      <td>Department of Computer Science, Princeton Uni...</td>\n",
       "      <td>2000</td>\n",
       "      <td>Proceedings of the 27th annual conference on ...</td>\n",
       "      <td>[31714, 76764, 149125, 173240, 196917, 196963,...</td>\n",
       "      <td>In this paper we introduce a new surface repr...</td>\n",
       "    </tr>\n",
       "    <tr>\n",
       "      <th>64957</th>\n",
       "      <td>308470</td>\n",
       "      <td>Displaced subdivision surfaces</td>\n",
       "      <td>Henry Moreton</td>\n",
       "      <td>Department of Computer Science, Princeton Uni...</td>\n",
       "      <td>2000</td>\n",
       "      <td>Proceedings of the 27th annual conference on ...</td>\n",
       "      <td>[31714, 76764, 149125, 173240, 196917, 196963,...</td>\n",
       "      <td>In this paper we introduce a new surface repr...</td>\n",
       "    </tr>\n",
       "  </tbody>\n",
       "</table>\n",
       "<p>64958 rows × 8 columns</p>\n",
       "</div>"
      ],
      "text/plain": [
       "        Index                                        Paper Title  \\\n",
       "0          46   On the Multiple Implementation of Abstract Da...   \n",
       "1         103   Smalltalk-80: the language and its implementa...   \n",
       "2         103   Smalltalk-80: the language and its implementa...   \n",
       "3         119                     Algorithms for trie compaction   \n",
       "4         119                     Algorithms for trie compaction   \n",
       "...       ...                                                ...   \n",
       "64953  308469   Beyond document similarity: understanding val...   \n",
       "64954  308469   Beyond document similarity: understanding val...   \n",
       "64955  308469   Beyond document similarity: understanding val...   \n",
       "64956  308470                     Displaced subdivision surfaces   \n",
       "64957  308470                     Displaced subdivision surfaces   \n",
       "\n",
       "                     Authors  \\\n",
       "0                 J. R White   \n",
       "1               David Robson   \n",
       "2             Adele Goldberg   \n",
       "3                 E Horowitz   \n",
       "4             M. Al-Suwaiyel   \n",
       "...                      ...   \n",
       "64953            Junghoo Cho   \n",
       "64954   Hector Garcia-Molina   \n",
       "64955        Andreas Paepcke   \n",
       "64956           Hugues Hoppe   \n",
       "64957          Henry Moreton   \n",
       "\n",
       "                                            Afflications   Year  \\\n",
       "0         Xerox Palo Alto Research Center, Palo Alto, CA   1983   \n",
       "1       Xerox Palo Alto Research Center;Xerox Palo Al...   1983   \n",
       "2       Xerox Palo Alto Research Center;Xerox Palo Al...   1983   \n",
       "3       Univ. of Southern California, CA;Univ. of Sou...   1984   \n",
       "4       Univ. of Southern California, CA;Univ. of Sou...   1984   \n",
       "...                                                  ...    ...   \n",
       "64953   Stanford University;Stanford University;Unive...   2000   \n",
       "64954   Stanford University;Stanford University;Unive...   2000   \n",
       "64955   Stanford University;Stanford University;Unive...   2000   \n",
       "64956   Department of Computer Science, Princeton Uni...   2000   \n",
       "64957   Department of Computer Science, Princeton Uni...   2000   \n",
       "\n",
       "                                                   Venue  \\\n",
       "0              IEEE Transactions on Software Engineering   \n",
       "1       Smalltalk-80: the language and its implementa...   \n",
       "2       Smalltalk-80: the language and its implementa...   \n",
       "3            ACM Transactions on Database Systems (TODS)   \n",
       "4            ACM Transactions on Database Systems (TODS)   \n",
       "...                                                  ...   \n",
       "64953                                  ACM SIGMOD Record   \n",
       "64954                                  ACM SIGMOD Record   \n",
       "64955                                  ACM SIGMOD Record   \n",
       "64956   Proceedings of the 27th annual conference on ...   \n",
       "64957   Proceedings of the 27th annual conference on ...   \n",
       "\n",
       "                                                   Idref  \\\n",
       "0                                                      0   \n",
       "1                                                      0   \n",
       "2                                                      0   \n",
       "3      [1158, 252608, 287327, 287498, 289081, 326293,...   \n",
       "4      [1158, 252608, 287327, 287498, 289081, 326293,...   \n",
       "...                                                  ...   \n",
       "64953                                                  0   \n",
       "64954                                                  0   \n",
       "64955                                                  0   \n",
       "64956  [31714, 76764, 149125, 173240, 196917, 196963,...   \n",
       "64957  [31714, 76764, 149125, 173240, 196917, 196963,...   \n",
       "\n",
       "                                                abstract  \n",
       "0       A fundamental step in the software design pro...  \n",
       "1       From the Preface (See Front Matter for full P...  \n",
       "2       From the Preface (See Front Matter for full P...  \n",
       "3       The trie data structure has many properties w...  \n",
       "4       The trie data structure has many properties w...  \n",
       "...                                                  ...  \n",
       "64953   In the face of small, one or two word queries...  \n",
       "64954   In the face of small, one or two word queries...  \n",
       "64955   In the face of small, one or two word queries...  \n",
       "64956   In this paper we introduce a new surface repr...  \n",
       "64957   In this paper we introduce a new surface repr...  \n",
       "\n",
       "[64958 rows x 8 columns]"
      ]
     },
     "execution_count": 42,
     "metadata": {},
     "output_type": "execute_result"
    }
   ],
   "source": [
    "data1"
   ]
  },
  {
   "cell_type": "code",
   "execution_count": 43,
   "metadata": {
    "executionInfo": {
     "elapsed": 1659,
     "status": "ok",
     "timestamp": 1661493268844,
     "user": {
      "displayName": "Deepthi L R",
      "userId": "00033363367583981681"
     },
     "user_tz": -330
    },
    "id": "QpQTIvXeLbil"
   },
   "outputs": [],
   "source": [
    "# Converting to CSV\n",
    "data1.to_csv('fullpaper.csv')"
   ]
  },
  {
   "cell_type": "markdown",
   "metadata": {
    "id": "yNcNpmmKYrwz"
   },
   "source": [
    "# Converting csv to xlsx"
   ]
  },
  {
   "cell_type": "code",
   "execution_count": 17,
   "metadata": {
    "colab": {
     "base_uri": "https://localhost:8080/"
    },
    "executionInfo": {
     "elapsed": 5670,
     "status": "ok",
     "timestamp": 1661493277578,
     "user": {
      "displayName": "Deepthi L R",
      "userId": "00033363367583981681"
     },
     "user_tz": -330
    },
    "id": "ZgoVovVKenC0",
    "outputId": "57279ce6-df95-4e2a-847d-cd596be888ca"
   },
   "outputs": [
    {
     "name": "stdout",
     "output_type": "stream",
     "text": [
      "Looking in indexes: https://pypi.org/simple, https://us-python.pkg.dev/colab-wheels/public/simple/\n",
      "Collecting xlsxwriter\n",
      "  Downloading XlsxWriter-3.0.3-py3-none-any.whl (149 kB)\n",
      "\u001b[K     |████████████████████████████████| 149 kB 8.3 MB/s \n",
      "\u001b[?25hInstalling collected packages: xlsxwriter\n",
      "Successfully installed xlsxwriter-3.0.3\n"
     ]
    }
   ],
   "source": [
    "!pip install xlsxwriter"
   ]
  },
  {
   "cell_type": "code",
   "execution_count": 18,
   "metadata": {
    "executionInfo": {
     "elapsed": 234253,
     "status": "ok",
     "timestamp": 1661493515843,
     "user": {
      "displayName": "Deepthi L R",
      "userId": "00033363367583981681"
     },
     "user_tz": -330
    },
    "id": "bXKnZlSuPDz_"
   },
   "outputs": [],
   "source": [
    "import os\n",
    "import glob\n",
    "import csv\n",
    "from xlsxwriter.workbook import Workbook\n",
    "for csvfile in glob.glob(os.path.join('.', '*.csv')):\n",
    "    workbook = Workbook(csvfile[:-4] + '.xlsx')\n",
    "    worksheet = workbook.add_worksheet()\n",
    "    with open(csvfile, 'rt', encoding='utf8') as f:\n",
    "        reader = csv.reader(f)\n",
    "        for r, row in enumerate(reader):\n",
    "            for c, col in enumerate(row):\n",
    "                worksheet.write(r, c, col)\n",
    "    workbook.close()"
   ]
  },
  {
   "cell_type": "markdown",
   "metadata": {
    "id": "Oy-pEwi3pI6R"
   },
   "source": [
    "# Co-Author"
   ]
  },
  {
   "cell_type": "markdown",
   "metadata": {
    "id": "46RRd1JMqtvb"
   },
   "source": [
    "## Creating and readind data in Coauthor.txt"
   ]
  },
  {
   "cell_type": "code",
   "execution_count": 44,
   "metadata": {
    "executionInfo": {
     "elapsed": 3595,
     "status": "ok",
     "timestamp": 1661493617974,
     "user": {
      "displayName": "Deepthi L R",
      "userId": "00033363367583981681"
     },
     "user_tz": -330
    },
    "id": "yM3C4-kUpMJM"
   },
   "outputs": [],
   "source": [
    "coauthortxtfile='output3.txt'\n",
    "with open(coauthortxtfile, \"r\") as file:\n",
    "    readline=file.read().split(\"\\n\")"
   ]
  },
  {
   "cell_type": "code",
   "execution_count": 45,
   "metadata": {
    "executionInfo": {
     "elapsed": 17923,
     "status": "ok",
     "timestamp": 1661493638858,
     "user": {
      "displayName": "Deepthi L R",
      "userId": "00033363367583981681"
     },
     "user_tz": -330
    },
    "id": "x8B6-9_dpQQ6"
   },
   "outputs": [],
   "source": [
    "lines=[]\n",
    "for i in readline:\n",
    "  a=i.split()\n",
    "  lines.append(a)\n",
    "indexidofauthor1=[]\n",
    "indexidofauthor2=[]\n",
    "numofcollaborations=[]\n",
    "for i in range(len(lines)-1):\n",
    "  indexidofauthor1.append(lines[i][0][1:-1])\n",
    "  indexidofauthor2.append(lines[i][1])\n",
    "  numofcollaborations.append(lines[i][2])"
   ]
  },
  {
   "cell_type": "markdown",
   "metadata": {
    "id": "jhkATzFOq_Y4"
   },
   "source": [
    "## Creating dataFrame"
   ]
  },
  {
   "cell_type": "code",
   "execution_count": 48,
   "metadata": {
    "executionInfo": {
     "elapsed": 1720,
     "status": "ok",
     "timestamp": 1661493764766,
     "user": {
      "displayName": "Deepthi L R",
      "userId": "00033363367583981681"
     },
     "user_tz": -330
    },
    "id": "CsBpBBd8pSp_"
   },
   "outputs": [],
   "source": [
    "Coauthordf = pd.DataFrame(list(zip(indexidofauthor1,indexidofauthor2,numofcollaborations)), columns =['Index of Author','Index of Co-author','Number of Collaborations between them'])"
   ]
  },
  {
   "cell_type": "code",
   "execution_count": 49,
   "metadata": {
    "colab": {
     "base_uri": "https://localhost:8080/",
     "height": 424
    },
    "executionInfo": {
     "elapsed": 446,
     "status": "ok",
     "timestamp": 1661493767861,
     "user": {
      "displayName": "Deepthi L R",
      "userId": "00033363367583981681"
     },
     "user_tz": -330
    },
    "id": "B37zey8lpU5n",
    "outputId": "8adec549-5c1d-4e74-8e47-80bc6c915b02"
   },
   "outputs": [
    {
     "data": {
      "text/html": [
       "<div>\n",
       "<style scoped>\n",
       "    .dataframe tbody tr th:only-of-type {\n",
       "        vertical-align: middle;\n",
       "    }\n",
       "\n",
       "    .dataframe tbody tr th {\n",
       "        vertical-align: top;\n",
       "    }\n",
       "\n",
       "    .dataframe thead th {\n",
       "        text-align: right;\n",
       "    }\n",
       "</style>\n",
       "<table border=\"1\" class=\"dataframe\">\n",
       "  <thead>\n",
       "    <tr style=\"text-align: right;\">\n",
       "      <th></th>\n",
       "      <th>Index of Author</th>\n",
       "      <th>Index of Co-author</th>\n",
       "      <th>Number of Collaborations between them</th>\n",
       "    </tr>\n",
       "  </thead>\n",
       "  <tbody>\n",
       "    <tr>\n",
       "      <th>0</th>\n",
       "      <td>52232</td>\n",
       "      <td>1034146</td>\n",
       "      <td>1</td>\n",
       "    </tr>\n",
       "    <tr>\n",
       "      <th>1</th>\n",
       "      <td>68881</td>\n",
       "      <td>947067</td>\n",
       "      <td>2</td>\n",
       "    </tr>\n",
       "    <tr>\n",
       "      <th>2</th>\n",
       "      <td>132922</td>\n",
       "      <td>1140429</td>\n",
       "      <td>1</td>\n",
       "    </tr>\n",
       "    <tr>\n",
       "      <th>3</th>\n",
       "      <td>121865</td>\n",
       "      <td>1244844</td>\n",
       "      <td>2</td>\n",
       "    </tr>\n",
       "    <tr>\n",
       "      <th>4</th>\n",
       "      <td>11714</td>\n",
       "      <td>364153</td>\n",
       "      <td>2</td>\n",
       "    </tr>\n",
       "    <tr>\n",
       "      <th>...</th>\n",
       "      <td>...</td>\n",
       "      <td>...</td>\n",
       "      <td>...</td>\n",
       "    </tr>\n",
       "    <tr>\n",
       "      <th>2218645</th>\n",
       "      <td>105636</td>\n",
       "      <td>954873</td>\n",
       "      <td>2</td>\n",
       "    </tr>\n",
       "    <tr>\n",
       "      <th>2218646</th>\n",
       "      <td>121915</td>\n",
       "      <td>345938</td>\n",
       "      <td>3</td>\n",
       "    </tr>\n",
       "    <tr>\n",
       "      <th>2218647</th>\n",
       "      <td>102884</td>\n",
       "      <td>817549</td>\n",
       "      <td>1</td>\n",
       "    </tr>\n",
       "    <tr>\n",
       "      <th>2218648</th>\n",
       "      <td>103634</td>\n",
       "      <td>1679305</td>\n",
       "      <td>1</td>\n",
       "    </tr>\n",
       "    <tr>\n",
       "      <th>2218649</th>\n",
       "      <td>26150</td>\n",
       "      <td>2257</td>\n",
       "      <td>1</td>\n",
       "    </tr>\n",
       "  </tbody>\n",
       "</table>\n",
       "<p>2218650 rows × 3 columns</p>\n",
       "</div>"
      ],
      "text/plain": [
       "        Index of Author Index of Co-author  \\\n",
       "0                 52232            1034146   \n",
       "1                 68881             947067   \n",
       "2                132922            1140429   \n",
       "3                121865            1244844   \n",
       "4                 11714             364153   \n",
       "...                 ...                ...   \n",
       "2218645          105636             954873   \n",
       "2218646          121915             345938   \n",
       "2218647          102884             817549   \n",
       "2218648          103634            1679305   \n",
       "2218649           26150               2257   \n",
       "\n",
       "        Number of Collaborations between them  \n",
       "0                                           1  \n",
       "1                                           2  \n",
       "2                                           1  \n",
       "3                                           2  \n",
       "4                                           2  \n",
       "...                                       ...  \n",
       "2218645                                     2  \n",
       "2218646                                     3  \n",
       "2218647                                     1  \n",
       "2218648                                     1  \n",
       "2218649                                     1  \n",
       "\n",
       "[2218650 rows x 3 columns]"
      ]
     },
     "execution_count": 49,
     "metadata": {},
     "output_type": "execute_result"
    }
   ],
   "source": [
    "Coauthordf"
   ]
  },
  {
   "cell_type": "markdown",
   "metadata": {
    "id": "KHVvwuZmrCVO"
   },
   "source": [
    "## Creating CSV file"
   ]
  },
  {
   "cell_type": "code",
   "execution_count": 50,
   "metadata": {
    "executionInfo": {
     "elapsed": 8579,
     "status": "ok",
     "timestamp": 1661493780828,
     "user": {
      "displayName": "Deepthi L R",
      "userId": "00033363367583981681"
     },
     "user_tz": -330
    },
    "id": "8V0N03hLpXC6"
   },
   "outputs": [],
   "source": [
    "Coauthordf.to_csv('coauthor.csv')"
   ]
  }
 ],
 "metadata": {
  "colab": {
   "collapsed_sections": [],
   "name": "Data_preprocess (1).ipynb",
   "provenance": []
  },
  "gpuClass": "standard",
  "kernelspec": {
   "display_name": "Python 3 (ipykernel)",
   "language": "python",
   "name": "python3"
  },
  "language_info": {
   "codemirror_mode": {
    "name": "ipython",
    "version": 3
   },
   "file_extension": ".py",
   "mimetype": "text/x-python",
   "name": "python",
   "nbconvert_exporter": "python",
   "pygments_lexer": "ipython3",
   "version": "3.10.6"
  }
 },
 "nbformat": 4,
 "nbformat_minor": 1
}
